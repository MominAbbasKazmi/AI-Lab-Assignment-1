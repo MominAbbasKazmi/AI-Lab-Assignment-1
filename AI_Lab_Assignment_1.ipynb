{
  "nbformat": 4,
  "nbformat_minor": 0,
  "metadata": {
    "colab": {
      "provenance": []
    },
    "kernelspec": {
      "name": "python3",
      "display_name": "Python 3"
    },
    "language_info": {
      "name": "python"
    }
  },
  "cells": [
    {
      "cell_type": "code",
      "execution_count": null,
      "metadata": {
        "colab": {
          "base_uri": "https://localhost:8080/"
        },
        "id": "rd8IKxjvjX2S",
        "outputId": "712b49c5-9d7a-40ad-959d-35e7933e832f"
      },
      "outputs": [
        {
          "output_type": "stream",
          "name": "stdout",
          "text": [
            "Shortest path from Islamabad to Karachi: Islamabad -> Rawalpindi -> Quetta -> Karachi\n"
          ]
        }
      ],
      "source": [
        "from collections import deque\n",
        "\n",
        "# Define the graph (adjacency list representation)\n",
        "graph = {\n",
        "    'Islamabad': ['Rawalpindi', 'Lahore', 'Peshawar'],\n",
        "    'Rawalpindi': ['Islamabad', 'Peshawar', 'Quetta'],\n",
        "    'Peshawar': ['Islamabad', 'Rawalpindi', 'Quetta'],\n",
        "    'Lahore': ['Islamabad', 'Multan', 'Quetta'],\n",
        "    'Multan': ['Lahore', 'Karachi', 'Quetta'],\n",
        "    'Quetta': ['Rawalpindi', 'Peshawar', 'Multan', 'Karachi'],\n",
        "    'Karachi': ['Multan', 'Quetta']\n",
        "}\n",
        "\n",
        "def bfs_shortest_path(graph, start, goal):\n",
        "    # Queue to hold paths\n",
        "    queue = deque([[start]])\n",
        "    # Set to hold visited cities\n",
        "    visited = set()\n",
        "\n",
        "    while queue:\n",
        "        # Get the first path from the queue\n",
        "        path = queue.popleft()\n",
        "        # Get the last city from the path\n",
        "        city = path[-1]\n",
        "\n",
        "        # If the city is the goal, return the path\n",
        "        if city == goal:\n",
        "            return path\n",
        "\n",
        "        # If city has not been visited, explore its neighbors\n",
        "        if city not in visited:\n",
        "            for neighbor in graph[city]:\n",
        "                new_path = list(path)  # Create a new path including the neighbor\n",
        "                new_path.append(neighbor)\n",
        "                queue.append(new_path)\n",
        "\n",
        "            visited.add(city)  # Mark the city as visited\n",
        "\n",
        "    return None  # If no path is found\n",
        "\n",
        "# Finding the shortest path from Islamabad to Karachi\n",
        "shortest_path = bfs_shortest_path(graph, 'Islamabad', 'Karachi')\n",
        "\n",
        "if shortest_path:\n",
        "    print(\"Shortest path from Islamabad to Karachi:\", \" -> \".join(shortest_path))\n",
        "else:\n",
        "    print(\"No path found between Islamabad and Karachi.\")\n"
      ]
    }
  ]
}